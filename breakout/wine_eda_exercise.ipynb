{
 "cells": [
  {
   "cell_type": "markdown",
   "metadata": {},
   "source": [
    "# 🍷 Wine Quality Data: 30-Minute EDA Exercise\n",
    "\n",
    "This notebook walks through a structured 30-minute exploratory data analysis (EDA) of the `wine` dataset from `sklearn`.\n",
    "\n",
    "**Objectives:**\n",
    "- Load and inspect the data\n",
    "- Perform univariate analysis\n",
    "- Visualize class distributions and correlations\n",
    "- Comment on findings relevant to ML modeling"
   ]
  },
  {
   "cell_type": "code",
   "execution_count": null,
   "metadata": {},
   "outputs": [],
   "source": [
    "# 📦 Imports\n",
    "import pandas as pd\n",
    "import matplotlib.pyplot as plt\n",
    "import seaborn as sns\n",
    "from sklearn.datasets import load_wine\n",
    "\n",
    "# 🔧 Configure plots\n",
    "sns.set(style="whitegrid")\n",
    "plt.rcParams['figure.figsize'] = (10, 6)"
   ]
  },
  {
   "cell_type": "code",
   "execution_count": null,
   "metadata": {},
   "outputs": [],
   "source": [
    "# 📥 Load the wine dataset\n",
    "wine = load_wine(as_frame=True)\n",
    "df = wine.frame\n",
    "df.head()"
   ]
  },
  {
   "cell_type": "markdown",
   "metadata": {},
   "source": [
    "## 🧾 Dataset Info\n",
    "Let's get a sense of what we're working with — size, types, nulls, and distributions."
   ]
  },
  {
   "cell_type": "code",
   "execution_count": null,
   "metadata": {},
   "outputs": [],
   "source": [
    "df.info()"
   ]
  },
  {
   "cell_type": "code",
   "execution_count": null,
   "metadata": {},
   "outputs": [],
   "source": [
    "df.describe().T"
   ]
  },
  {
   "cell_type": "markdown",
   "metadata": {},
   "source": [
    "## 🎯 Target Variable\n",
    "Let's inspect the distribution of the wine classes (target variable)."
   ]
  },
  {
   "cell_type": "code",
   "execution_count": null,
   "metadata": {},
   "outputs": [],
   "source": [
    "sns.countplot(x='target', data=df)\n",
    "plt.title("Distribution of Wine Classes")\n",
    "plt.xlabel("Wine Class")\n",
    "plt.ylabel("Count")"
   ]
  },
  {
   "cell_type": "markdown",
   "metadata": {},
   "source": [
    "## 📊 Feature Distributions\n",
    "Let's visualize a few features using histograms and boxplots."
   ]
  },
  {
   "cell_type": "code",
   "execution_count": null,
   "metadata": {},
   "outputs": [],
   "source": [
    "features_to_plot = ['alcohol', 'malic_acid', 'color_intensity']\n",
    "for feature in features_to_plot:\n",
    "    fig, axes = plt.subplots(1, 2, figsize=(12, 4))\n",
    "    sns.histplot(df[feature], kde=True, ax=axes[0])\n",
    "    axes[0].set_title(f"Histogram of {feature}")\n",
    "    sns.boxplot(x='target', y=feature, data=df, ax=axes[1])\n",
    "    axes[1].set_title(f"Boxplot of {feature} by Wine Class")\n",
    "    plt.tight_layout()"
   ]
  },
  {
   "cell_type": "markdown",
   "metadata": {},
   "source": [
    "## 🔍 Correlation Heatmap\n",
    "This helps us spot multicollinearity or strong relationships."
   ]
  },
  {
   "cell_type": "code",
   "execution_count": null,
   "metadata": {},
   "outputs": [],
   "source": [
    "plt.figure(figsize=(14, 10))\n",
    "corr = df.drop(columns='target').corr()\n",
    "sns.heatmap(corr, annot=True, cmap='coolwarm', fmt='.2f', linewidths=0.5)\n",
    "plt.title("Correlation Matrix of Wine Features")"
   ]
  },
  {
   "cell_type": "markdown",
   "metadata": {},
   "source": [
    "## 🧠 Questions for Students\n",
    "- What features seem to differentiate the wine classes best?\n",
    "- Are there any highly correlated features? Would that matter in a model?\n",
    "- What preprocessing might be needed before modeling?"
   ]
  }
 ],
 "metadata": {
  "kernelspec": {
   "display_name": "Python 3",
   "language": "python",
   "name": "python3"
  },
  "language_info": {
   "name": "python",
   "version": ""
  }
 },
 "nbformat": 4,
 "nbformat_minor": 2
}
