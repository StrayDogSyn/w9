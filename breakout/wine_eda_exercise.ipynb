{
 "cells": [
  {
   "cell_type": "markdown",
   "id": "39120a8e",
   "metadata": {},
   "source": [
    "# 🍷 Wine Dataset EDA - 30-Minute Exercise\n",
    "\n",
    "This notebook walks through a structured 30-minute exploratory data analysis of the `wine` dataset from `sklearn`.\n",
    "\n",
    "## 📋 Objectives\n",
    "- Load and inspect the data\n",
    "- Perform univariate analysis\n",
    "- Visualize class distributions and correlations\n",
    "- Comment on findings relevant to ML modeling"
   ]
  },
  {
   "cell_type": "code",
   "execution_count": null,
   "id": "ee10f4d8",
   "metadata": {},
   "outputs": [],
   "source": [
    "# 📦 Imports\n",
    "import pandas as pd\n",
    "import matplotlib.pyplot as plt\n",
    "import seaborn as sns\n",
    "from sklearn.datasets import load_wine\n",
    "\n",
    "# 🔧 Configure plots\n",
    "sns.set(style=\"whitegrid\")\n",
    "plt.rcParams['figure.figsize'] = (10, 6)"
   ]
  },
  {
   "cell_type": "markdown",
   "id": "a5c0224b",
   "metadata": {},
   "source": [
    "## 1️⃣ Data Loading & Initial Inspection"
   ]
  },
  {
   "cell_type": "code",
   "execution_count": null,
   "id": "f35b2541",
   "metadata": {},
   "outputs": [],
   "source": [
    "# Load the wine dataset\n",
    "wine_dataset = load_wine()\n",
    "\n",
    "# Create DataFrame with explicit type handling\n",
    "df = pd.DataFrame(wine_dataset.data, columns=wine_dataset.feature_names)\n",
    "df['target'] = wine_dataset.target\n",
    "\n",
    "print(\"Dataset shape:\", df.shape)\n",
    "print(\"\\nTarget classes:\", wine_dataset.target_names)\n",
    "print(\"\\nFirst few rows:\")\n",
    "df.head()"
   ]
  },
  {
   "cell_type": "code",
   "execution_count": null,
   "id": "18ce10cc",
   "metadata": {},
   "outputs": [],
   "source": [
    "# Basic info about the dataset\n",
    "print(\"Dataset Info:\")\n",
    "df.info()\n",
    "\n",
    "print(\"\\n\" + \"=\"*50)\n",
    "print(\"Missing values:\")\n",
    "print(df.isnull().sum().sum())\n",
    "\n",
    "print(\"\\n\" + \"=\"*50)\n",
    "print(\"Target distribution:\")\n",
    "print(df['target'].value_counts().sort_index())"
   ]
  },
  {
   "cell_type": "markdown",
   "id": "00c9950b",
   "metadata": {},
   "source": [
    "## 2️⃣ Univariate Analysis"
   ]
  },
  {
   "cell_type": "code",
   "execution_count": null,
   "id": "b85f5433",
   "metadata": {},
   "outputs": [],
   "source": [
    "# Descriptive statistics\n",
    "print(\"Descriptive Statistics:\")\n",
    "df.describe()"
   ]
  },
  {
   "cell_type": "code",
   "execution_count": null,
   "id": "4b88f3d7",
   "metadata": {},
   "outputs": [],
   "source": [
    "# Distribution of target classes\n",
    "plt.figure(figsize=(8, 5))\n",
    "target_counts = df['target'].value_counts().sort_index()\n",
    "plt.bar(range(len(target_counts)), target_counts.values)\n",
    "plt.xlabel('Wine Class')\n",
    "plt.ylabel('Count')\n",
    "plt.title('Distribution of Wine Classes')\n",
    "plt.xticks(range(len(wine_dataset.target_names)), wine_dataset.target_names)\n",
    "plt.show()\n",
    "\n",
    "print(\"Class distribution:\")\n",
    "for i, name in enumerate(wine_dataset.target_names):\n",
    "    count = target_counts[i]\n",
    "    percentage = (count / len(df)) * 100\n",
    "    print(f\"{name}: {count} samples ({percentage:.1f}%)\")"
   ]
  },
  {
   "cell_type": "markdown",
   "id": "32ec3b14",
   "metadata": {},
   "source": [
    "## 3️⃣ Feature Distributions"
   ]
  },
  {
   "cell_type": "code",
   "execution_count": null,
   "id": "f14f4c84",
   "metadata": {},
   "outputs": [],
   "source": [
    "# Plot histograms for all features\n",
    "fig, axes = plt.subplots(4, 4, figsize=(15, 12))\n",
    "axes = axes.ravel()\n",
    "\n",
    "feature_cols = [col for col in df.columns if col != 'target']\n",
    "\n",
    "for i, col in enumerate(feature_cols[:16]):\n",
    "    axes[i].hist(df[col], bins=20, alpha=0.7, edgecolor='black')\n",
    "    axes[i].set_title(col, fontsize=10)\n",
    "    axes[i].tick_params(labelsize=8)\n",
    "\n",
    "# Hide extra subplots if we have fewer than 16 features\n",
    "for i in range(len(feature_cols), 16):\n",
    "    axes[i].set_visible(False)\n",
    "\n",
    "plt.tight_layout()\n",
    "plt.show()"
   ]
  },
  {
   "cell_type": "markdown",
   "id": "aa709478",
   "metadata": {},
   "source": [
    "## 4️⃣ Correlation Analysis"
   ]
  },
  {
   "cell_type": "code",
   "execution_count": null,
   "id": "5040bac9",
   "metadata": {},
   "outputs": [],
   "source": [
    "# Correlation matrix (excluding target)\n",
    "plt.figure(figsize=(12, 10))\n",
    "correlation_matrix = df.drop('target', axis=1).corr()\n",
    "sns.heatmap(correlation_matrix, annot=False, cmap='coolwarm', center=0)\n",
    "plt.title('Feature Correlation Matrix')\n",
    "plt.xticks(rotation=45, ha='right')\n",
    "plt.yticks(rotation=0)\n",
    "plt.tight_layout()\n",
    "plt.show()\n",
    "\n",
    "# Find highly correlated pairs\n",
    "print(\"Highly correlated feature pairs (|correlation| > 0.8):\")\n",
    "high_corr_pairs = []\n",
    "for i in range(len(correlation_matrix.columns)):\n",
    "    for j in range(i+1, len(correlation_matrix.columns)):\n",
    "        corr_val = correlation_matrix.iloc[i, j]\n",
    "        if abs(float(corr_val)) > 0.8:\n",
    "            high_corr_pairs.append((correlation_matrix.columns[i], \n",
    "                                   correlation_matrix.columns[j], \n",
    "                                   corr_val))\n",
    "\n",
    "for pair in high_corr_pairs:\n",
    "    print(f\"{pair[0]} <-> {pair[1]}: {pair[2]:.3f}\")"
   ]
  },
  {
   "cell_type": "markdown",
   "id": "044b5257",
   "metadata": {},
   "source": [
    "## 5️⃣ Class-wise Analysis"
   ]
  },
  {
   "cell_type": "code",
   "execution_count": null,
   "id": "20209c60",
   "metadata": {},
   "outputs": [],
   "source": [
    "# Box plots for key features by wine class\n",
    "key_features = ['alcohol', 'flavanoids', 'color_intensity', 'proline']\n",
    "\n",
    "fig, axes = plt.subplots(2, 2, figsize=(12, 10))\n",
    "axes = axes.ravel()\n",
    "\n",
    "for i, feature in enumerate(key_features):\n",
    "    sns.boxplot(data=df, x='target', y=feature, ax=axes[i])\n",
    "    axes[i].set_title(f'{feature} by Wine Class')\n",
    "    axes[i].set_xlabel('Wine Class')\n",
    "\n",
    "plt.tight_layout()\n",
    "plt.show()"
   ]
  },
  {
   "cell_type": "code",
   "execution_count": null,
   "id": "9b61ec65",
   "metadata": {},
   "outputs": [],
   "source": [
    "# Pairplot for selected features\n",
    "selected_features = ['alcohol', 'flavanoids', 'color_intensity', 'target']\n",
    "sns.pairplot(df[selected_features], hue='target', diag_kind='hist')\n",
    "plt.suptitle('Pairplot of Key Features by Wine Class', y=1.02)\n",
    "plt.show()"
   ]
  },
  {
   "cell_type": "markdown",
   "id": "52650c83",
   "metadata": {},
   "source": [
    "## 6️⃣ Summary & ML Modeling Insights"
   ]
  },
  {
   "cell_type": "code",
   "execution_count": null,
   "id": "84c034b1",
   "metadata": {},
   "outputs": [],
   "source": [
    "# Feature importance analysis using correlation with target\n",
    "feature_target_corr = df.drop('target', axis=1).corrwith(df['target']).abs().sort_values(ascending=False)\n",
    "\n",
    "print(\"Features most correlated with target (absolute correlation):\")\n",
    "print(feature_target_corr.head(10))\n",
    "\n",
    "# Visualize top correlated features\n",
    "plt.figure(figsize=(10, 6))\n",
    "top_features = feature_target_corr.head(10)\n",
    "plt.barh(range(len(top_features)), top_features.values)\n",
    "plt.yticks(range(len(top_features)), [str(label) for label in top_features.index])\n",
    "plt.xlabel('Absolute Correlation with Target')\n",
    "plt.title('Top 10 Features by Correlation with Wine Class')\n",
    "plt.gca().invert_yaxis()\n",
    "plt.tight_layout()\n",
    "plt.show()"
   ]
  },
  {
   "cell_type": "markdown",
   "id": "7d3eca19",
   "metadata": {},
   "source": [
    "## 📝 Key Findings & ML Modeling Recommendations\n",
    "\n",
    "**Dataset Characteristics:**\n",
    "- 178 samples, 13 features, 3 wine classes\n",
    "- No missing values - clean dataset\n",
    "- Slightly imbalanced classes but not severely\n",
    "\n",
    "**Feature Insights:**\n",
    "- Several features show strong correlations (potential multicollinearity)\n",
    "- Features like flavanoids, proline, and alcohol show good class separation\n",
    "- Some features have skewed distributions\n",
    "\n",
    "**ML Modeling Recommendations:**\n",
    "1. **Feature Selection**: Consider removing highly correlated features\n",
    "2. **Scaling**: Features have different scales - normalization recommended\n",
    "3. **Class Balance**: Classes are reasonably balanced, no special handling needed\n",
    "4. **Model Choice**: Given clear class separation, tree-based models or SVM should work well\n",
    "5. **Cross-validation**: Small dataset - use stratified k-fold CV\n",
    "\n",
    "**Next Steps:**\n",
    "- Feature scaling/normalization\n",
    "- Feature selection (remove highly correlated features)\n",
    "- Try multiple algorithms (Random Forest, SVM, Logistic Regression)\n",
    "- Hyperparameter tuning with cross-validation"
   ]
  }
 ],
 "metadata": {
  "language_info": {
   "name": "python"
  }
 },
 "nbformat": 4,
 "nbformat_minor": 5
}
